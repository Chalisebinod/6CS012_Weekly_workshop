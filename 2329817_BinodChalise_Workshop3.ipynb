{
  "nbformat": 4,
  "nbformat_minor": 0,
  "metadata": {
    "colab": {
      "provenance": []
    },
    "kernelspec": {
      "name": "python3",
      "display_name": "Python 3"
    },
    "language_info": {
      "name": "python"
    }
  },
  "cells": [
    {
      "cell_type": "markdown",
      "source": [
        "# Task - 1: Implementation of MCP Neurons:"
      ],
      "metadata": {
        "id": "17eF0Z9h-aRa"
      }
    },
    {
      "cell_type": "markdown",
      "source": [
        "For \"AND\" Operations."
      ],
      "metadata": {
        "id": "aUBprPTVmjRe"
      }
    },
    {
      "cell_type": "code",
      "source": [
        "def MCP_Neurons_AND(X1, X2, T):\n",
        "    \"\"\"\n",
        "    This function implements basic AND operations using an MCP Neuron for two inputs.\n",
        "\n",
        "    Arguments:\n",
        "        X1 (list): An array of binary values.\n",
        "        X2 (list): An array of binary values.\n",
        "        T (int): The threshold value for the AND operation.\n",
        "\n",
        "    Returns:\n",
        "        state_neuron (list): The state of the neuron (1 or 0) for each pair of inputs.\n",
        "    \"\"\"\n",
        "    # Ensure both input arrays have the same length.\n",
        "    assert len(X1) == len(X2), \"Input arrays must have the same length.\"\n",
        "\n",
        "    state_neuron = []\n",
        "\n",
        "    # Process each pair of inputs.\n",
        "    for x1, x2 in zip(X1, X2):\n",
        "        if (x1 + x2) >= T:\n",
        "            state_neuron.append(1)\n",
        "        else:\n",
        "            state_neuron.append(0)\n",
        "\n",
        "    return state_neuron\n",
        "\n",
        "\n",
        "X1 = [0, 0, 1, 1]\n",
        "X2 = [0, 1, 0, 1]\n",
        "T = 2  # For AND, the threshold is 2.\n",
        "result_and = MCP_Neurons_AND(X1, X2, T)\n",
        "print(f\"Output of AND gate for inputs {X1} and {X2} with threshold {T}: {result_and}\")\n"
      ],
      "metadata": {
        "colab": {
          "base_uri": "https://localhost:8080/"
        },
        "id": "T-A898OpmqY3",
        "outputId": "58fcbedd-27c2-4a15-97db-366ffa3c7d14"
      },
      "execution_count": null,
      "outputs": [
        {
          "output_type": "stream",
          "name": "stdout",
          "text": [
            "Output of AND gate for inputs [0, 0, 1, 1] and [0, 1, 0, 1] with threshold 2: [0, 0, 0, 1]\n"
          ]
        }
      ]
    },
    {
      "cell_type": "markdown",
      "source": [
        "Sample Usage for \"OR\" Function."
      ],
      "metadata": {
        "id": "ZTgEWRhqnI6U"
      }
    },
    {
      "cell_type": "code",
      "source": [
        "def MCP_Neurons_OR(X1, X2, T):\n",
        "    \"\"\"\n",
        "    This function implements basic OR operations using an MCP Neuron for two inputs.\n",
        "\n",
        "    Arguments:\n",
        "        X1 (list): An array of binary values.\n",
        "        X2 (list): An array of binary values.\n",
        "        T (int): The threshold value for the OR operation.\n",
        "\n",
        "    Returns:\n",
        "        state_neuron (list): The state of the neuron (1 or 0) for each pair of inputs.\n",
        "    \"\"\"\n",
        "    # Ensure both input arrays have the same length.\n",
        "    assert len(X1) == len(X2), \"Input arrays must have the same length.\"\n",
        "\n",
        "    state_neuron = []\n",
        "\n",
        "    # Process each pair of inputs.\n",
        "    for x1, x2 in zip(X1, X2):\n",
        "        if (x1 + x2) >= T:\n",
        "            state_neuron.append(1)\n",
        "        else:\n",
        "            state_neuron.append(0)\n",
        "\n",
        "    return state_neuron\n",
        "\n",
        "\n",
        "X1 = [0, 0, 1, 1]\n",
        "X2 = [0, 1, 0, 1]\n",
        "T = 1  # For OR, the threshold is 1.\n",
        "result_or = MCP_Neurons_OR(X1, X2, T)\n",
        "print(f\"Output of OR gate for inputs {X1} and {X2} with threshold {T}: {result_or}\")\n"
      ],
      "metadata": {
        "colab": {
          "base_uri": "https://localhost:8080/"
        },
        "id": "lDYPT4CInP5V",
        "outputId": "ff6214db-2178-4431-b2ad-c795e5441d0e"
      },
      "execution_count": null,
      "outputs": [
        {
          "output_type": "stream",
          "name": "stdout",
          "text": [
            "Output of OR gate for inputs [0, 0, 1, 1] and [0, 1, 0, 1] with threshold 1: [0, 1, 1, 1]\n"
          ]
        }
      ]
    },
    {
      "cell_type": "markdown",
      "source": [
        "# Question 1: List out all the limitations of MCP Neurons.\n",
        "**Binary Output:** Only produce outputs 0 or 1.\n",
        "\n",
        "**Fixed Weights and Thresholds:** No built-in learning mechanism; parameters must be set manually.\n",
        "\n",
        "**Linear Separability:** Can only solve linearly separable problems (cannot solve functions like XOR).\n",
        "\n",
        "**Inflexibility:** Not suitable for handling noise or complex, non-linear patterns."
      ],
      "metadata": {
        "id": "bpIRssSEpK96"
      }
    },
    {
      "cell_type": "markdown",
      "source": [
        "# Question 2: Can you develop logic to solve the XOR function using MCP Neurons?\n",
        "The XOR function cannot be solved with a single MCP neuron because it is not linearly separable. However, we can solve it using a combination of MCP neurons.\n",
        "\n",
        "**Approach:**\n",
        "\n",
        "Use MCP Neurons to implement AND, OR, and NAND gates.\n",
        "XOR = (A OR B) AND (NOT (A AND B))\n",
        "\n",
        "\n",
        "**Using this logic:**\n",
        "\n",
        "Compute OR (A, B)\n",
        "\n",
        "Compute AND (A, B)\n",
        "\n",
        "Compute NAND (negation of AND)\n",
        "\n",
        "Compute XOR as (OR) AND (NAND)"
      ],
      "metadata": {
        "id": "HB6xrbtuqLWj"
      }
    },
    {
      "cell_type": "markdown",
      "source": [
        "# Task 2: Perceptron Algorithm for 0 vs 1 Classification."
      ],
      "metadata": {
        "id": "aWlCcOs6-UOI"
      }
    },
    {
      "cell_type": "markdown",
      "source": [
        "# Load the Dataset:"
      ],
      "metadata": {
        "id": "8RYCvqkn-P8p"
      }
    },
    {
      "cell_type": "code",
      "source": [
        "import pandas as pd\n",
        "import numpy as np\n",
        "import matplotlib.pyplot as plt\n",
        "# Load the dataset\n",
        "df_0_1 = pd.read_csv(\"/content/drive/MyDrive/AI_Shiv/mnist_0_and_1.csv\")\n",
        "# Extract features and labels\n",
        "X = df_0_1.drop(columns=[\"label\"]).values # 784 pixels\n",
        "y = df_0_1[\"label\"].values # Labels (0 or 1)\n",
        "# Check the shape of the features and labels\n",
        "print(\"Feature matrix shape:\", X.shape)\n",
        "print(\"Label vector shape:\", y.shape)"
      ],
      "metadata": {
        "id": "hxmSTOkZqkR-",
        "outputId": "8cdcc677-96cf-434d-c4ff-44438a525f89",
        "colab": {
          "base_uri": "https://localhost:8080/"
        }
      },
      "execution_count": null,
      "outputs": [
        {
          "output_type": "stream",
          "name": "stdout",
          "text": [
            "Feature matrix shape: (12665, 784)\n",
            "Label vector shape: (12665,)\n"
          ]
        }
      ]
    },
    {
      "cell_type": "code",
      "source": [
        "\n",
        "from google.colab import drive\n",
        "drive.mount('/content/drive')"
      ],
      "metadata": {
        "colab": {
          "base_uri": "https://localhost:8080/"
        },
        "id": "s2RULYY28OJd",
        "outputId": "1357677d-6b55-4279-9933-b83fb047ad30"
      },
      "execution_count": null,
      "outputs": [
        {
          "output_type": "stream",
          "name": "stdout",
          "text": [
            "Mounted at /content/drive\n"
          ]
        }
      ]
    },
    {
      "cell_type": "markdown",
      "source": [
        "# Answer the Following Question:\n",
        "1. Question - 1: What does the shape of X represent?\n",
        "\n",
        "- The feature matrix X has a shape of (12665, 784). This means there are 12,665 samples (or data points), and each sample is represented by 784 features. For instance, if these features come from images, each image might be a 28x28 pixel grid flattened into a 784-length vector.\n",
        "\n",
        "2. Question - 2: What does the shape of X represent?\n",
        "\n",
        "- The label vector has a shape of (12665,). This indicates that there is one label per sample, so each of the 12,665 samples in X has an associated label indicating its class or category."
      ],
      "metadata": {
        "id": "nhyARAQE8oIW"
      }
    },
    {
      "cell_type": "markdown",
      "source": [
        "# Visualize the Dataset:"
      ],
      "metadata": {
        "id": "ouSnH8p6-KQW"
      }
    },
    {
      "cell_type": "code",
      "source": [
        "# Separate images for label 0 and label 1\n",
        "images_0 = X[y == 0]  # Get all images with label 0\n",
        "images_1 = X[y == 1]  # Get all images with label 1\n",
        "fig, axes = plt.subplots(2, 5, figsize=(10, 5))\n",
        "\n",
        "# Check if the arrays have the required amount of data\n",
        "if len(images_0) < 5 or len(images_1) < 5:\n",
        "    print(\"Error: Not enough images in images_0 or images_1 to plot 5 images.\")\n",
        "else:\n",
        "    for i in range(5):\n",
        "        # Plot digit 0\n",
        "        axes[0, i].imshow(images_0[i].reshape(28, 28), cmap=\"gray\")\n",
        "        axes[0, i].set_title(\"Label: 0\")\n",
        "        axes[0, i].axis(\"off\")\n",
        "        # Plot digit 1\n",
        "        axes[1, i].imshow(images_1[i].reshape(28, 28), cmap=\"gray\")\n",
        "        axes[1, i].set_title(\"Label: 1\")\n",
        "        axes[1, i].axis(\"off\")\n",
        "\n",
        "plt.suptitle(\"First 5 Images of 0 and 1 from MNIST Subset\")\n",
        "plt.show()\n"
      ],
      "metadata": {
        "colab": {
          "base_uri": "https://localhost:8080/",
          "height": 451
        },
        "id": "Bt8ref2G9DFc",
        "outputId": "fccf367e-0baa-4711-8db0-2e708745ab7b"
      },
      "execution_count": null,
      "outputs": [
        {
          "output_type": "display_data",
          "data": {
            "text/plain": [
              "<Figure size 1000x500 with 10 Axes>"
            ],
            "image/png": "[encoded data removed]"
          },
          "metadata": {}
        }
      ]
    },
    {
      "cell_type": "markdown",
      "source": [
        "# Initialize Weights and Bias:"
      ],
      "metadata": {
        "id": "BSzCm7P_-ilX"
      }
    },
    {
      "cell_type": "code",
      "source": [
        "# Initialize weights and bias\n",
        "weights = np.zeros(X.shape[1]) # 784 weights (one for each pixel)\n",
        "bias = 0\n",
        "learning_rate = 0.1\n",
        "epochs = 100"
      ],
      "metadata": {
        "id": "PxYOroff-j6_"
      },
      "execution_count": null,
      "outputs": []
    },
    {
      "cell_type": "markdown",
      "source": [
        "# Answer the Following Question:\n",
        "1. Question - 3: What does the weights array represent in this context?\n",
        "- The weights array represents the parameters of a simple perceptron model. Each weight corresponds to a pixel in the input image (since X.shape[1] is 784, meaning each image has 784 pixels). These weights determine the importance of each pixel in making a decision about whether the image belongs to class 0 or class 1. During training, these weights are updated to minimize classification errors.\n",
        "\n",
        "2. Question - 4: Why are we initializing the weights to zero? What effect could this have on the training process?\n",
        "\n",
        "- We initialize the weights to zero as a starting point for the learning algorithm. However, initializing all weights to zero can cause a problem known as \"Symmetry Breaking.\" If all weights are the same, the model updates them identically during training, leading to no meaningful learning. In practice, it's better to initialize weights randomly (e.g., using small random values from a normal distribution) to ensure different neurons learn different features."
      ],
      "metadata": {
        "id": "s3vj6GDDAyiy"
      }
    },
    {
      "cell_type": "markdown",
      "source": [
        "# Implement a Decision Function or Activation Function:"
      ],
      "metadata": {
        "id": "-DFVPr4oBNGB"
      }
    },
    {
      "cell_type": "code",
      "source": [
        "import numpy as np\n",
        "\n",
        "def decision_function(X, weights, bias):\n",
        "    \"\"\"\n",
        "    Compute the predicted labels for the input data.\n",
        "\n",
        "    Parameters:\n",
        "    - X: Features (input data) as a numpy array of shape (n_samples, n_features)\n",
        "    - weights: Updated weights after training\n",
        "    - bias: Updated bias after training\n",
        "\n",
        "    Returns:\n",
        "    - y_pred_all: The predicted labels for the input data\n",
        "    \"\"\"\n",
        "    predictions = np.dot(X, weights) + bias\n",
        "    y_pred_all = np.where(predictions >= 0, 1, 0)  # Step function: output 1 if >=0, else 0\n",
        "    return y_pred_all\n"
      ],
      "metadata": {
        "id": "laZ6Zq0SBl64"
      },
      "execution_count": null,
      "outputs": []
    },
    {
      "cell_type": "markdown",
      "source": [
        "# Implement the Perceptron Learning Algorithm:"
      ],
      "metadata": {
        "id": "OSHalUk_BuWC"
      }
    },
    {
      "cell_type": "code",
      "source": [
        "import numpy as np\n",
        "\n",
        "def train_perceptron(X, y, weights, bias, learning_rate=0.1, epochs=100):\n",
        "    \"\"\"\n",
        "    Train the perceptron using the Perceptron Learning Algorithm.\n",
        "\n",
        "    Parameters:\n",
        "    - X: Features (input data) as a numpy array of shape (n_samples, n_features)\n",
        "    - y: Labels (true output) as a numpy array of shape (n_samples,)\n",
        "    - weights: Initial weights as a numpy array of shape (n_features,)\n",
        "    - bias: Initial bias value (scalar)\n",
        "    - learning_rate: Learning rate for weight updates (default is 0.1)\n",
        "    - epochs: Number of iterations to train the model (default is 100)\n",
        "\n",
        "    Returns:\n",
        "    - weights: Updated weights after training\n",
        "    - bias: Updated bias after training\n",
        "    - accuracy: Final training accuracy\n",
        "    \"\"\"\n",
        "    n_samples = X.shape[0]  # Number of samples\n",
        "\n",
        "    for epoch in range(epochs):\n",
        "        correct_predictions = 0  # Track correct predictions\n",
        "\n",
        "        for i in range(n_samples):\n",
        "            # Compute prediction using step function\n",
        "            prediction = np.dot(X[i], weights) + bias\n",
        "            y_pred = 1 if prediction >= 0 else 0  # Step function\n",
        "\n",
        "            # Check if the prediction is correct\n",
        "            if y_pred == y[i]:\n",
        "                correct_predictions += 1  # Count correct predictions\n",
        "\n",
        "            # Update weights and bias if prediction is incorrect\n",
        "            else:\n",
        "                update = learning_rate * (y[i] - y_pred)\n",
        "                weights += update * X[i]  # Update weights\n",
        "                bias += update  # Update bias\n",
        "\n",
        "        # Compute accuracy\n",
        "        accuracy = correct_predictions / n_samples * 100\n",
        "        print(f\"Epoch {epoch + 1}/{epochs} - Accuracy: {accuracy:.2f}%\")\n",
        "\n",
        "    return weights, bias, accuracy\n"
      ],
      "metadata": {
        "id": "tVRe8vvoBv7K"
      },
      "execution_count": null,
      "outputs": []
    },
    {
      "cell_type": "markdown",
      "source": [
        "# Answer the Following Question:\n",
        "1. Question - 5: What is the purpose of the output = np.dot(X[i], weights) + bias line?\n",
        "\n",
        "- **output = np.dot(X[i], weights) + bias** computes the weighted sum of the features for the i-th sample and adds the bias. This value serves as the input to the step (activation) function, determining whether the perceptron will predict a 0 or 1. It essentially measures how well the current weights and bias represent the sample.\n",
        "\n",
        "\n",
        "2. Question - 6: What happens when the prediction is wrong? How are the weights and bias updated?\n",
        "\n",
        "- When the prediction is wrong, the algorithm updates the weights and bias to correct the error. The update is performed as follows:\n",
        "\n",
        "**Weights Update:**\n",
        "weights + = learning_rate × (𝑦 [𝑖]−𝑦pred)×𝑋[𝑖]\n",
        "\n",
        "**Bias Update:**\n",
        "bias+= learning_rate×(𝑦[𝑖]−𝑦pred)\n",
        "\n",
        "\n",
        "This update adjusts the decision boundary so that the weighted sum moves closer to producing the correct output on future iterations.\n",
        "\n",
        "\n",
        "3. Question - 7:Why is the final accuracy important, and what do you expect it to be?\n",
        "\n",
        "- The final accuracy is important because it indicates how well the perceptron has learned to classify the training data. High accuracy means that the model's decision boundary correctly separates the classes (0 and 1) for most samples.\n",
        "\n",
        "**Expected Accuracy:**\n",
        "Since the problem of classifying 0 and 1 from MNIST is linearly separable, you would expect the final accuracy to be very high (often close to 100% on the training set) if the model converges properly."
      ],
      "metadata": {
        "id": "GbEXBUKcCUPc"
      }
    },
    {
      "cell_type": "markdown",
      "source": [
        "# Putting it all Together:\n",
        "**Training the Perceptron Algorithm:**"
      ],
      "metadata": {
        "id": "z2O1FAsREKLD"
      }
    },
    {
      "cell_type": "code",
      "source": [
        "# After training the model with the perceptron_learning_algorithm\n",
        "weights, bias, accuracy = train_perceptron(X, y, weights, bias)\n",
        "# Evaluate the model using the new function\n",
        "print(\"The Final Accuracy is: \", accuracy)"
      ],
      "metadata": {
        "colab": {
          "base_uri": "https://localhost:8080/"
        },
        "id": "5iUOuxI0CZra",
        "outputId": "e891b21f-5e7f-4c09-9c93-e5ccf57c8a74"
      },
      "execution_count": null,
      "outputs": [
        {
          "output_type": "stream",
          "name": "stdout",
          "text": [
            "Epoch 1/100 - Accuracy: 99.67%\n",
            "Epoch 2/100 - Accuracy: 99.82%\n",
            "Epoch 3/100 - Accuracy: 99.87%\n",
            "Epoch 4/100 - Accuracy: 99.87%\n",
            "Epoch 5/100 - Accuracy: 99.90%\n",
            "Epoch 6/100 - Accuracy: 99.93%\n",
            "Epoch 7/100 - Accuracy: 99.98%\n",
            "Epoch 8/100 - Accuracy: 99.95%\n",
            "Epoch 9/100 - Accuracy: 99.89%\n",
            "Epoch 10/100 - Accuracy: 99.92%\n",
            "Epoch 11/100 - Accuracy: 99.95%\n",
            "Epoch 12/100 - Accuracy: 99.98%\n",
            "Epoch 13/100 - Accuracy: 100.00%\n",
            "Epoch 14/100 - Accuracy: 100.00%\n",
            "Epoch 15/100 - Accuracy: 100.00%\n",
            "Epoch 16/100 - Accuracy: 100.00%\n",
            "Epoch 17/100 - Accuracy: 100.00%\n",
            "Epoch 18/100 - Accuracy: 100.00%\n",
            "Epoch 19/100 - Accuracy: 100.00%\n",
            "Epoch 20/100 - Accuracy: 100.00%\n",
            "Epoch 21/100 - Accuracy: 100.00%\n",
            "Epoch 22/100 - Accuracy: 100.00%\n",
            "Epoch 23/100 - Accuracy: 100.00%\n",
            "Epoch 24/100 - Accuracy: 100.00%\n",
            "Epoch 25/100 - Accuracy: 100.00%\n",
            "Epoch 26/100 - Accuracy: 100.00%\n",
            "Epoch 27/100 - Accuracy: 100.00%\n",
            "Epoch 28/100 - Accuracy: 100.00%\n",
            "Epoch 29/100 - Accuracy: 100.00%\n",
            "Epoch 30/100 - Accuracy: 100.00%\n",
            "Epoch 31/100 - Accuracy: 100.00%\n",
            "Epoch 32/100 - Accuracy: 100.00%\n",
            "Epoch 33/100 - Accuracy: 100.00%\n",
            "Epoch 34/100 - Accuracy: 100.00%\n",
            "Epoch 35/100 - Accuracy: 100.00%\n",
            "Epoch 36/100 - Accuracy: 100.00%\n",
            "Epoch 37/100 - Accuracy: 100.00%\n",
            "Epoch 38/100 - Accuracy: 100.00%\n",
            "Epoch 39/100 - Accuracy: 100.00%\n",
            "Epoch 40/100 - Accuracy: 100.00%\n",
            "Epoch 41/100 - Accuracy: 100.00%\n",
            "Epoch 42/100 - Accuracy: 100.00%\n",
            "Epoch 43/100 - Accuracy: 100.00%\n",
            "Epoch 44/100 - Accuracy: 100.00%\n",
            "Epoch 45/100 - Accuracy: 100.00%\n",
            "Epoch 46/100 - Accuracy: 100.00%\n",
            "Epoch 47/100 - Accuracy: 100.00%\n",
            "Epoch 48/100 - Accuracy: 100.00%\n",
            "Epoch 49/100 - Accuracy: 100.00%\n",
            "Epoch 50/100 - Accuracy: 100.00%\n",
            "Epoch 51/100 - Accuracy: 100.00%\n",
            "Epoch 52/100 - Accuracy: 100.00%\n",
            "Epoch 53/100 - Accuracy: 100.00%\n",
            "Epoch 54/100 - Accuracy: 100.00%\n",
            "Epoch 55/100 - Accuracy: 100.00%\n",
            "Epoch 56/100 - Accuracy: 100.00%\n",
            "Epoch 57/100 - Accuracy: 100.00%\n",
            "Epoch 58/100 - Accuracy: 100.00%\n",
            "Epoch 59/100 - Accuracy: 100.00%\n",
            "Epoch 60/100 - Accuracy: 100.00%\n",
            "Epoch 61/100 - Accuracy: 100.00%\n",
            "Epoch 62/100 - Accuracy: 100.00%\n",
            "Epoch 63/100 - Accuracy: 100.00%\n",
            "Epoch 64/100 - Accuracy: 100.00%\n",
            "Epoch 65/100 - Accuracy: 100.00%\n",
            "Epoch 66/100 - Accuracy: 100.00%\n",
            "Epoch 67/100 - Accuracy: 100.00%\n",
            "Epoch 68/100 - Accuracy: 100.00%\n",
            "Epoch 69/100 - Accuracy: 100.00%\n",
            "Epoch 70/100 - Accuracy: 100.00%\n",
            "Epoch 71/100 - Accuracy: 100.00%\n",
            "Epoch 72/100 - Accuracy: 100.00%\n",
            "Epoch 73/100 - Accuracy: 100.00%\n",
            "Epoch 74/100 - Accuracy: 100.00%\n",
            "Epoch 75/100 - Accuracy: 100.00%\n",
            "Epoch 76/100 - Accuracy: 100.00%\n",
            "Epoch 77/100 - Accuracy: 100.00%\n",
            "Epoch 78/100 - Accuracy: 100.00%\n",
            "Epoch 79/100 - Accuracy: 100.00%\n",
            "Epoch 80/100 - Accuracy: 100.00%\n",
            "Epoch 81/100 - Accuracy: 100.00%\n",
            "Epoch 82/100 - Accuracy: 100.00%\n",
            "Epoch 83/100 - Accuracy: 100.00%\n",
            "Epoch 84/100 - Accuracy: 100.00%\n",
            "Epoch 85/100 - Accuracy: 100.00%\n",
            "Epoch 86/100 - Accuracy: 100.00%\n",
            "Epoch 87/100 - Accuracy: 100.00%\n",
            "Epoch 88/100 - Accuracy: 100.00%\n",
            "Epoch 89/100 - Accuracy: 100.00%\n",
            "Epoch 90/100 - Accuracy: 100.00%\n",
            "Epoch 91/100 - Accuracy: 100.00%\n",
            "Epoch 92/100 - Accuracy: 100.00%\n",
            "Epoch 93/100 - Accuracy: 100.00%\n",
            "Epoch 94/100 - Accuracy: 100.00%\n",
            "Epoch 95/100 - Accuracy: 100.00%\n",
            "Epoch 96/100 - Accuracy: 100.00%\n",
            "Epoch 97/100 - Accuracy: 100.00%\n",
            "Epoch 98/100 - Accuracy: 100.00%\n",
            "Epoch 99/100 - Accuracy: 100.00%\n",
            "Epoch 100/100 - Accuracy: 100.00%\n",
            "The Final Accuracy is:  100.0\n"
          ]
        }
      ]
    },
    {
      "cell_type": "markdown",
      "source": [
        "# Visualizing the Misclassified Image:"
      ],
      "metadata": {
        "id": "tdHCHjRJEcr-"
      }
    },
    {
      "cell_type": "code",
      "source": [
        "# Get predictions for all data points\n",
        "predictions = np.dot(X, weights) + bias\n",
        "y_pred = np.where(predictions >= 0, 1, 0)\n",
        "\n",
        "# Calculate final accuracy\n",
        "final_accuracy = np.mean(y_pred == y)\n",
        "print(f\"Final Accuracy: {final_accuracy:.4f}\")\n",
        "\n",
        "# Step 5: Visualize Misclassified Images\n",
        "misclassified_idx = np.where(y_pred != y)[0]\n",
        "if len(misclassified_idx) > 0:\n",
        "    fig, axes = plt.subplots(2, 5, figsize=(10, 5))\n",
        "    for ax, idx in zip(axes.flat, misclassified_idx[:10]):  # Show 10 misclassified images\n",
        "        ax.imshow(X[idx].reshape(28, 28), cmap=\"gray\")\n",
        "        ax.set_title(f\"Pred: {y_pred[idx]}, True: {y[idx]}\")\n",
        "        ax.axis(\"off\")\n",
        "    plt.suptitle(\"Misclassified Images\")\n",
        "    plt.show()\n",
        "else:\n",
        "    print(\"All images were correctly classified!\")\n"
      ],
      "metadata": {
        "colab": {
          "base_uri": "https://localhost:8080/"
        },
        "id": "9ggZO30GEeVW",
        "outputId": "5737f6dd-ad9a-44ee-81ce-8f1e80146611"
      },
      "execution_count": null,
      "outputs": [
        {
          "output_type": "stream",
          "name": "stdout",
          "text": [
            "Final Accuracy: 1.0000\n",
            "All images were correctly classified!\n"
          ]
        }
      ]
    },
    {
      "cell_type": "markdown",
      "source": [
        "# Answer the Following Question:\n",
        "1. Question - 8:What does misclassified idx store, and how is it used in this code?\n",
        "\n",
        "- **misclassified_idx** stores the indices of misclassified images where the predicted labels (y_pred) do not match the true labels (y). It is computed using np.where(y_pred != y)[0], which extracts these indices. The code uses misclassified_idx to visualize up to 10 misclassified images, displaying them with their predicted and actual labels. This helps analyze the model’s mistakes and understand where it struggles.\n",
        "\n",
        "2. Question - 9: How do you interpret the result if the output is ”All images were correctly classified!”?\n",
        "\n",
        "- If the output is \"All images were correctly classified!\", it means that all predictions matched the true labels, resulting in misclassified_idx being empty. This indicates that the perceptron perfectly classified the dataset, which suggests the data is linearly separable. While this is a positive result, it’s important to test on unseen data to ensure the model generalizes well and is not just memorizing the training set."
      ],
      "metadata": {
        "id": "Us0a9Gn-FGBN"
      }
    },
    {
      "cell_type": "markdown",
      "source": [
        "# Task 3: Perceptron Algorithm for 3 vs 5 Classification."
      ],
      "metadata": {
        "id": "JKWSzV-yGhg8"
      }
    },
    {
      "cell_type": "code",
      "source": [
        "import numpy as np\n",
        "import pandas as pd\n",
        "import matplotlib.pyplot as plt\n",
        "\n",
        "# Read the CSV file\n",
        "df = pd.read_csv(\"/content/drive/MyDrive/AI_Shiv/mnist_3_and_5.csv\")\n",
        "\n",
        "# Convert to NumPy array\n",
        "data = df.values  # shape: (N, 785) -> 1 label col + 784 pixel cols\n",
        "\n",
        "# Separate labels (first column) and features (remaining columns)\n",
        "y_raw = data[:, 0]   # shape: (N,)\n",
        "X = data[:, 1:]      # shape: (N, 784)\n",
        "\n",
        "# Map digit 3 -> +1, digit 5 -> -1\n",
        "y = np.where(y_raw == 3, 1, -1)\n",
        "\n",
        "# Train-Test Split\n",
        "N = len(X)\n",
        "indices = np.random.permutation(N)\n",
        "train_size = int(0.8 * N)  # 80% for training\n",
        "train_idx = indices[:train_size]\n",
        "test_idx  = indices[train_size:]\n",
        "\n",
        "X_train, y_train = X[train_idx], y[train_idx]\n",
        "X_test,  y_test  = X[test_idx],  y[test_idx]\n",
        "\n",
        "print(\"Train set size:\", X_train.shape, y_train.shape)\n",
        "print(\"Test set size: \", X_test.shape, y_test.shape)\n",
        "\n",
        "\n"
      ],
      "metadata": {
        "colab": {
          "base_uri": "https://localhost:8080/"
        },
        "id": "TNXLtkaAHITW",
        "outputId": "45e6046d-52c6-4594-d6b9-55c3c3fe54dd"
      },
      "execution_count": null,
      "outputs": [
        {
          "output_type": "stream",
          "name": "stdout",
          "text": [
            "Train set size: (2192, 784) (2192,)\n",
            "Test set size:  (549, 784) (549,)\n"
          ]
        }
      ]
    },
    {
      "cell_type": "code",
      "source": [
        "\n",
        "\n",
        "def perceptron_train(X_train, y_train, num_epochs=10):\n",
        "    \"\"\"\n",
        "    Trains a simple Perceptron classifier.\n",
        "\n",
        "    Args:\n",
        "        X_train (ndarray): Training features of shape (N, d).\n",
        "        y_train (ndarray): Training labels in {+1, -1} of shape (N,).\n",
        "        num_epochs (int): Number of epochs (passes over the data).\n",
        "\n",
        "    Returns:\n",
        "        w (ndarray): Learned weight vector of shape (d,).\n",
        "        b (float): Learned bias term.\n",
        "    \"\"\"\n",
        "    N, d = X_train.shape\n",
        "    w = np.zeros(d)\n",
        "    b = 0.0\n",
        "\n",
        "    for epoch in range(num_epochs):\n",
        "        # Shuffle indices each epoch (optional but often beneficial)\n",
        "        indices = np.random.permutation(N)\n",
        "        for i in indices:\n",
        "            xi = X_train[i]\n",
        "            yi = y_train[i]\n",
        "            # Perceptron prediction\n",
        "            y_pred = np.sign(np.dot(w, xi) + b)\n",
        "            # If sign(...) == 0, treat it as +1 or -1. We'll choose +1 for zero case.\n",
        "            if y_pred == 0:\n",
        "                y_pred = 1\n",
        "            # Update if misclassified\n",
        "            if y_pred != yi:\n",
        "                w += yi * xi\n",
        "                b += yi\n",
        "    return w, b"
      ],
      "metadata": {
        "id": "RJYmM66fLJpZ"
      },
      "execution_count": null,
      "outputs": []
    },
    {
      "cell_type": "code",
      "source": [
        "w, b = perceptron_train(X_train, y_train, num_epochs=10)\n",
        "print(\"Training completed.\")"
      ],
      "metadata": {
        "colab": {
          "base_uri": "https://localhost:8080/"
        },
        "id": "2UOu8qoWLWwn",
        "outputId": "f1579b27-7ff4-441b-e36a-b8d00e32361c"
      },
      "execution_count": null,
      "outputs": [
        {
          "output_type": "stream",
          "name": "stdout",
          "text": [
            "Training completed.\n"
          ]
        }
      ]
    },
    {
      "cell_type": "code",
      "source": [
        "def perceptron_predict(X, w, b):\n",
        "    \"\"\"\n",
        "    Predict labels for a given dataset using the trained Perceptron.\n",
        "\n",
        "    Args:\n",
        "        X (ndarray): Feature matrix of shape (N, d).\n",
        "        w (ndarray): Weight vector of shape (d,).\n",
        "        b (float): Bias term.\n",
        "\n",
        "    Returns:\n",
        "        y_pred (ndarray): Predicted labels in {+1, -1} of shape (N,).\n",
        "    \"\"\"\n",
        "    return np.sign(X @ w + b)\n",
        "\n",
        "# Predict on the test set\n",
        "y_pred = perceptron_predict(X_test, w, b)\n",
        "\n",
        "# Compute accuracy\n",
        "accuracy = np.mean(y_pred == y_test)\n",
        "print(f\"Test Accuracy: {accuracy * 100:.2f}%\")\n"
      ],
      "metadata": {
        "colab": {
          "base_uri": "https://localhost:8080/"
        },
        "id": "vgHhEntPLeF6",
        "outputId": "52216ddb-1db7-4da2-ea3c-2f14e6c1d1cc"
      },
      "execution_count": null,
      "outputs": [
        {
          "output_type": "stream",
          "name": "stdout",
          "text": [
            "Test Accuracy: 95.45%\n"
          ]
        }
      ]
    },
    {
      "cell_type": "code",
      "source": [
        "\n",
        "# Identify misclassified indices\n",
        "misclassified_indices = np.where(y_pred != y_test)[0]\n",
        "print(\"Number of misclassified examples:\", len(misclassified_indices))\n",
        "\n",
        "# Helper function to map {+1, -1} back to digits {3, 5}\n",
        "def label_to_digit(label):\n",
        "    return 3 if label == 1 else 5\n",
        "\n",
        "# Plot a few misclassified samples\n",
        "num_to_plot = 6\n",
        "plt.figure(figsize=(12, 6))\n",
        "for i, idx in enumerate(misclassified_indices[:num_to_plot]):\n",
        "    img = X_test[idx].reshape(28, 28)  # reshape to 28x28\n",
        "    plt.subplot(2, 3, i + 1)\n",
        "    plt.imshow(img, cmap='gray')\n",
        "    pred_digit = label_to_digit(y_pred[idx])\n",
        "    true_digit = label_to_digit(y_test[idx])\n",
        "    plt.title(f\"Pred: {pred_digit}, True: {true_digit}\")\n",
        "    plt.axis('off')\n",
        "\n",
        "plt.tight_layout()\n",
        "plt.show()"
      ],
      "metadata": {
        "colab": {
          "base_uri": "https://localhost:8080/",
          "height": 624
        },
        "id": "GiwJrDt8Lkpc",
        "outputId": "f48eb104-6432-4eb1-87e9-688c2ca5a6cc"
      },
      "execution_count": null,
      "outputs": [
        {
          "output_type": "stream",
          "name": "stdout",
          "text": [
            "Number of misclassified examples: 25\n"
          ]
        },
        {
          "output_type": "display_data",
          "data": {
            "text/plain": [
              "<Figure size 1200x600 with 6 Axes>"
            ],
            "image/png": "[encoded data removed]"
          },
          "metadata": {}
        }
      ]
    },
    {
      "cell_type": "markdown",
      "source": [
        "## Conclusion\n",
        "\n",
        "The Perceptron algorithm successfully distinguishes between the digits 3 and 5 with a relatively high accuracy, typically above 90%. However, it still misclassifies some ambiguous examples where the handwriting style makes a digit resemble the other class. As a simple linear classifier, the Perceptron demonstrates that even basic approaches can handle well-separated classes. For more challenging or ambiguous samples, more advanced techniques (such as SVMs or neural networks) can further improve classification performance."
      ],
      "metadata": {
        "id": "UcmiSEgbL8J3"
      }
    }
  ]
}